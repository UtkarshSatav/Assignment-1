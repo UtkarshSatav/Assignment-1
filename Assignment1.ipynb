{
 "cells": [
  {
   "cell_type": "code",
   "execution_count": 2,
   "metadata": {},
   "outputs": [
    {
     "name": "stdout",
     "output_type": "stream",
     "text": [
      "odd\n"
     ]
    }
   ],
   "source": [
    "#WAP to check whether a number is even or odd.\n",
    "\n",
    "a = int(input(\"Enter a number\"))\n",
    "\n",
    "if(a%2==0):\n",
    "    print(\"Even\")\n",
    "\n",
    "else:\n",
    "    print(\"odd\")"
   ]
  },
  {
   "cell_type": "code",
   "execution_count": 4,
   "metadata": {},
   "outputs": [
    {
     "name": "stdout",
     "output_type": "stream",
     "text": [
      "Utkarsh Satav ,you are not eligible to vote\n"
     ]
    }
   ],
   "source": [
    "#WAP to check whether person is eligible for voting.\n",
    "\n",
    "a = str(input(\"Enter your name :\"))\n",
    "\n",
    "b = int(input(\"Enter your age :\"))\n",
    "\n",
    "if(b>=18):\n",
    "    print(a,\",you are eligible to vote\")\n",
    "\n",
    "else:\n",
    "    print(a, \",you are not eligible to vote\")"
   ]
  },
  {
   "cell_type": "code",
   "execution_count": null,
   "metadata": {},
   "outputs": [],
   "source": []
  },
  {
   "cell_type": "code",
   "execution_count": 14,
   "metadata": {},
   "outputs": [
    {
     "name": "stdout",
     "output_type": "stream",
     "text": [
      "Friday\n"
     ]
    }
   ],
   "source": [
    "#WAP to enter a number between 1 to 7 as days of a week and print the day accordingly. (Monday, Tuesday ...) using if elif case.\n",
    "\n",
    "a = int(input(\"Enter a number :\"))\n",
    "\n",
    "if(a==1 or a%7==1):\n",
    "    print(\"Monday\")\n",
    "\n",
    "elif(a==2 or a%7==2):\n",
    "    print(\"Tuesday\")\n",
    "\n",
    "elif(a==3 or a%7==3):\n",
    "    print(\"Wednesday\")\n",
    "\n",
    "elif(a==4 or a%7==4):\n",
    "    print(\"Thursday\")\n",
    "\n",
    "elif(a==5 or a%7==5):\n",
    "    print(\"Friday\")\n",
    "\n",
    "elif(a==6 or a%7==6):\n",
    "    print(\"Saturday\")\n",
    "\n",
    "elif(a==7 or a%7==0):\n",
    "    print(\"Sunday\")\n"
   ]
  },
  {
   "cell_type": "code",
   "execution_count": null,
   "metadata": {},
   "outputs": [],
   "source": [
    "#WAP to enter a number between 1 to 7 as days of a week and print the day accordingly. (Monday, Tuesday ...) using match case.\n",
    "\n",
    "day = int(input(\"Enter a number between 1 and 7: \"))\n",
    "\n",
    "match day:\n",
    "    case 1:\n",
    "        print(\"Monday\")\n",
    "    case 2:\n",
    "        print(\"Tuesday\")\n",
    "    case 3:\n",
    "        print(\"Wednesday\")\n",
    "    case 4:\n",
    "        print(\"Thursday\")\n",
    "    case 5:\n",
    "        print(\"Friday\")\n",
    "    case 6:\n",
    "        print(\"Saturday\")\n",
    "    case 7:\n",
    "        print(\"Sunday\")\n",
    "    case _:\n",
    "        print(\"Invalid input. Please enter a number between 1 and 7.\")"
   ]
  },
  {
   "cell_type": "code",
   "execution_count": 4,
   "metadata": {},
   "outputs": [
    {
     "name": "stdout",
     "output_type": "stream",
     "text": [
      "The year is not a leap year\n"
     ]
    }
   ],
   "source": [
    "#WAP to check whether a year is a leap year or not. A year is a leap year if “any one of ” the following conditions are satisfied:\n",
    "\n",
    "y = int(input(\"Enter a year :\"))\n",
    "\n",
    "if(y%4==0 and y%100!=0):\n",
    "    print(\"The year is a leap year\")\n",
    "\n",
    "else:\n",
    "    print(\"The year is not a leap year\")"
   ]
  },
  {
   "cell_type": "code",
   "execution_count": 7,
   "metadata": {},
   "outputs": [
    {
     "name": "stdout",
     "output_type": "stream",
     "text": [
      "your have D Grade\n"
     ]
    }
   ],
   "source": [
    "#WAP to calculate to take in the marks of 5 subjects, compute average and display the grade as per following rules:\n",
    "\n",
    "a = int(input(\"Enter your marks in science :\"))\n",
    "b = int(input(\"Enter your marks in math :\"))\n",
    "c = int(input(\"Enter your marks in english :\"))\n",
    "d = int(input(\"Enter your marks in hindi :\"))\n",
    "e = int(input(\"Enter your marks in computer science :\"))\n",
    "\n",
    "Marks = (a+b+c+d+e/5)\n",
    "\n",
    "if(Marks >= 90):\n",
    "    print(\"your have A Grade\")\n",
    "\n",
    "elif(Marks >= 80 and Marks < 90):\n",
    "    print(\"your have B Grade\")\n",
    "\n",
    "elif(Marks >= 70 and Marks < 80):\n",
    "    print(\"your have C Grade\")\n",
    "\n",
    "elif( Marks < 70):\n",
    "    print(\"your have D Grade\")\n"
   ]
  },
  {
   "cell_type": "code",
   "execution_count": 9,
   "metadata": {},
   "outputs": [
    {
     "name": "stdout",
     "output_type": "stream",
     "text": [
      "b is a consonant.\n"
     ]
    }
   ],
   "source": [
    "#WAP to input a character. Check whether the character is vowel or consonant.\n",
    "\n",
    "a = str(input(\"Enter a character :\"))\n",
    "\n",
    "match a.lower():\n",
    "    case 'a' | 'e' | 'i' | 'o' | 'u':\n",
    "        print(f\"{a} is a vowel.\")\n",
    "    case _:\n",
    "        print(f\"{a} is a consonant.\")"
   ]
  },
  {
   "cell_type": "code",
   "execution_count": 32,
   "metadata": {},
   "outputs": [
    {
     "name": "stdout",
     "output_type": "stream",
     "text": [
      "8 not fount in the list.\n",
      "8 not fount in the list.\n",
      "8 not fount in the list.\n",
      "8 not fount in the list.\n",
      "8 not fount in the list.\n",
      "8 not fount in the list.\n",
      "8 not fount in the list.\n",
      "8 found in the list.\n"
     ]
    }
   ],
   "source": [
    "#WAP to search an element in a list [use for: else clause]\n",
    "\n",
    "lst = eval(input(\"Enter your list :\"))\n",
    "\n",
    "element = int(input(\"Enter the element you wanna search :\"))\n",
    "\n",
    "length = len(lst)\n",
    "\n",
    "for i in range (0, length):\n",
    "    if element == lst[i]:\n",
    "        print(element, \"found in the list.\")\n",
    "        break\n",
    "    else:\n",
    "        print(element, \"not fount in the list.\")\n"
   ]
  },
  {
   "cell_type": "code",
   "execution_count": 35,
   "metadata": {},
   "outputs": [
    {
     "name": "stdout",
     "output_type": "stream",
     "text": [
      "Three\n"
     ]
    }
   ],
   "source": [
    "#Write a program to take a single digit number from the key board and print its spelling in English word using if elif.\n",
    "\n",
    "a = int(input(\"Enter a single digite number from the keyboard :\"))\n",
    "\n",
    "if(a == 1):\n",
    "    print(\"One\")\n",
    "elif(a == 2):\n",
    "    print(\"Two\")\n",
    "elif(a == 3):\n",
    "    print(\"Three\")\n",
    "elif(a == 4):\n",
    "    print(\"Four\")\n",
    "elif(a == 5):\n",
    "    print(\"Five\")\n",
    "elif(a == 6):\n",
    "    print(\"Six\")\n",
    "elif(a == 7):\n",
    "    print(\"Seven\")\n",
    "elif(a == 8):\n",
    "    print(\"Eight\")\n",
    "elif(a == 9):\n",
    "    print(\"Nine\")\n",
    "elif(a == 0):\n",
    "    print(\"Zero\")"
   ]
  },
  {
   "cell_type": "code",
   "execution_count": 36,
   "metadata": {},
   "outputs": [
    {
     "name": "stdout",
     "output_type": "stream",
     "text": [
      "[8, 9, 10]\n"
     ]
    }
   ],
   "source": [
    "#WAP to input three numbers and arrange them in ascending numbers.\n",
    "\n",
    "a = int(input(\"Enter a number :\"))\n",
    "b = int(input(\"Enter a number :\"))\n",
    "c = int(input(\"Enter a number :\"))\n",
    "\n",
    "d = [a,b,c]\n",
    "\n",
    "d.sort()\n",
    "print(d)"
   ]
  },
  {
   "cell_type": "code",
   "execution_count": null,
   "metadata": {},
   "outputs": [],
   "source": []
  }
 ],
 "metadata": {
  "kernelspec": {
   "display_name": "Python 3",
   "language": "python",
   "name": "python3"
  },
  "language_info": {
   "codemirror_mode": {
    "name": "ipython",
    "version": 3
   },
   "file_extension": ".py",
   "mimetype": "text/x-python",
   "name": "python",
   "nbconvert_exporter": "python",
   "pygments_lexer": "ipython3",
   "version": "3.12.5"
  }
 },
 "nbformat": 4,
 "nbformat_minor": 2
}
